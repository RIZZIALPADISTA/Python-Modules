{
 "cells": [
  {
   "cell_type": "markdown",
   "id": "4dd8414f-4b27-4487-b0ad-b062679c9d92",
   "metadata": {},
   "source": [
    "# Modules\n",
    "\n",
    "- Di bahasa pemrograman lain juga disebut package / library\n",
    "- Sesuatu berisi berbagai entity yg ingin diincludekan dalam project"
   ]
  },
  {
   "cell_type": "markdown",
   "id": "3419aad5-5b61-4c5b-8237-510f54a83541",
   "metadata": {},
   "source": [
    "## Built in Module\n",
    "\n",
    "Module bawaan python, tanpa instalasi package dapat digunakan"
   ]
  },
  {
   "cell_type": "code",
   "execution_count": 9,
   "id": "f87e6583-15e7-4f26-a37d-6310fa33e10d",
   "metadata": {},
   "outputs": [],
   "source": [
    "import math # import built-in modul\n",
    "import datetime as waktu # nama alias"
   ]
  },
  {
   "cell_type": "code",
   "execution_count": 2,
   "id": "636e629d-0d4c-45a1-9573-f7ae20937774",
   "metadata": {},
   "outputs": [
    {
     "data": {
      "text/plain": [
       "5"
      ]
     },
     "execution_count": 2,
     "metadata": {},
     "output_type": "execute_result"
    }
   ],
   "source": [
    "math.ceil(4.23)"
   ]
  },
  {
   "cell_type": "code",
   "execution_count": 3,
   "id": "ead383a5-7582-4f60-be56-bfcce1f2bf20",
   "metadata": {},
   "outputs": [
    {
     "data": {
      "text/plain": [
       "4"
      ]
     },
     "execution_count": 3,
     "metadata": {},
     "output_type": "execute_result"
    }
   ],
   "source": [
    "math.floor(4.23)"
   ]
  },
  {
   "cell_type": "code",
   "execution_count": 10,
   "id": "d435f12e-6578-41f3-8d3c-aa18aa20363f",
   "metadata": {},
   "outputs": [
    {
     "data": {
      "text/plain": [
       "datetime.datetime(2024, 5, 26, 11, 31, 24, 552756)"
      ]
     },
     "execution_count": 10,
     "metadata": {},
     "output_type": "execute_result"
    }
   ],
   "source": [
    "waktu.datetime.now()"
   ]
  },
  {
   "cell_type": "markdown",
   "id": "0fe4cb42-94d6-4726-b30b-5a6a19505ae9",
   "metadata": {},
   "source": [
    "## Custom Module\n"
   ]
  },
  {
   "cell_type": "code",
   "execution_count": 1,
   "id": "054e8ea9-d1f2-4537-b373-9f8bca2437d5",
   "metadata": {},
   "outputs": [],
   "source": [
    "import modulku as m"
   ]
  },
  {
   "cell_type": "code",
   "execution_count": 2,
   "id": "3f674de8-7ef9-4a7d-8f4d-7fc569a04379",
   "metadata": {},
   "outputs": [
    {
     "data": {
      "text/plain": [
       "'Andi'"
      ]
     },
     "execution_count": 2,
     "metadata": {},
     "output_type": "execute_result"
    }
   ],
   "source": [
    "m.nama"
   ]
  },
  {
   "cell_type": "code",
   "execution_count": 3,
   "id": "9f947171-e706-481c-bc75-c62c4072408b",
   "metadata": {},
   "outputs": [
    {
     "data": {
      "text/plain": [
       "24"
      ]
     },
     "execution_count": 3,
     "metadata": {},
     "output_type": "execute_result"
    }
   ],
   "source": [
    "m.kalidua(12)"
   ]
  },
  {
   "cell_type": "markdown",
   "id": "c8b5e207-45a7-4584-85af-e4c81792f65a",
   "metadata": {},
   "source": [
    "## 3rd Party Module\n",
    "\n",
    "- PyPI package managernya, bisa diinstal dengan pip\n",
    "- ```bash\n",
    "  $ pip install namaPackage\n",
    "  ```"
   ]
  },
  {
   "cell_type": "code",
   "execution_count": 4,
   "id": "693961f8-c628-4c33-ae16-3efde7097e2b",
   "metadata": {},
   "outputs": [],
   "source": [
    "import pandas as pd"
   ]
  },
  {
   "cell_type": "code",
   "execution_count": 5,
   "id": "e46743e3-90c9-48f2-89c3-2b5e4216d92b",
   "metadata": {},
   "outputs": [],
   "source": [
    "x = {\n",
    "    \"nama\": [\"Andi\", \"Budi\", \"Caca\"],\n",
    "    \"usia\": [21, 22, 34]\n",
    "}"
   ]
  },
  {
   "cell_type": "code",
   "execution_count": 6,
   "id": "5b4fe1e4-c4f7-4b99-8db9-3c62d039d766",
   "metadata": {},
   "outputs": [
    {
     "data": {
      "text/html": [
       "<div>\n",
       "<style scoped>\n",
       "    .dataframe tbody tr th:only-of-type {\n",
       "        vertical-align: middle;\n",
       "    }\n",
       "\n",
       "    .dataframe tbody tr th {\n",
       "        vertical-align: top;\n",
       "    }\n",
       "\n",
       "    .dataframe thead th {\n",
       "        text-align: right;\n",
       "    }\n",
       "</style>\n",
       "<table border=\"1\" class=\"dataframe\">\n",
       "  <thead>\n",
       "    <tr style=\"text-align: right;\">\n",
       "      <th></th>\n",
       "      <th>nama</th>\n",
       "      <th>usia</th>\n",
       "    </tr>\n",
       "  </thead>\n",
       "  <tbody>\n",
       "    <tr>\n",
       "      <th>0</th>\n",
       "      <td>Andi</td>\n",
       "      <td>21</td>\n",
       "    </tr>\n",
       "    <tr>\n",
       "      <th>1</th>\n",
       "      <td>Budi</td>\n",
       "      <td>22</td>\n",
       "    </tr>\n",
       "    <tr>\n",
       "      <th>2</th>\n",
       "      <td>Caca</td>\n",
       "      <td>34</td>\n",
       "    </tr>\n",
       "  </tbody>\n",
       "</table>\n",
       "</div>"
      ],
      "text/plain": [
       "   nama  usia\n",
       "0  Andi    21\n",
       "1  Budi    22\n",
       "2  Caca    34"
      ]
     },
     "execution_count": 6,
     "metadata": {},
     "output_type": "execute_result"
    }
   ],
   "source": [
    "y = pd.DataFrame(x)\n",
    "y"
   ]
  },
  {
   "cell_type": "code",
   "execution_count": null,
   "id": "1648d8b1-27d3-4194-bb55-3f0399fa02f7",
   "metadata": {},
   "outputs": [],
   "source": []
  }
 ],
 "metadata": {
  "kernelspec": {
   "display_name": "Python 3 (ipykernel)",
   "language": "python",
   "name": "python3"
  },
  "language_info": {
   "codemirror_mode": {
    "name": "ipython",
    "version": 3
   },
   "file_extension": ".py",
   "mimetype": "text/x-python",
   "name": "python",
   "nbconvert_exporter": "python",
   "pygments_lexer": "ipython3",
   "version": "3.10.0"
  }
 },
 "nbformat": 4,
 "nbformat_minor": 5
}
